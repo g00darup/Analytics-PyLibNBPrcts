{
 "cells": [
  {
   "cell_type": "code",
   "execution_count": 2,
   "id": "75fa7033",
   "metadata": {},
   "outputs": [],
   "source": [
    "import numpy as np\n",
    "import pandas as pd\n",
    "\n",
    "import matplotlib.pyplot as plt\n",
    "import seaborn as sns"
   ]
  },
  {
   "cell_type": "code",
   "execution_count": 4,
   "id": "20bc881c",
   "metadata": {},
   "outputs": [
    {
     "name": "stdout",
     "output_type": "stream",
     "text": [
      "[None, '//slashdot.org', '//slashdot.org', '//slashdot.org/recent', '//slashdot.org/popular', '//slashdot.org/polls', 'https://slashdot.org/software/', 'https://www.slashdotstore.com', '//slashdot.org/newsletter', '//slashdot.org/jobs', '//slashdot.org/submission', '//slashdot.org/my/login', '//slashdot.org/my/newuser', '//devices.slashdot.org', '//build.slashdot.org', '//entertainment.slashdot.org', '//technology.slashdot.org', '//slashdot.org/?fhfilter=opensource', '//science.slashdot.org', '//yro.slashdot.org', 'https://rss.slashdot.org/Slashdot/slashdotMain', 'https://www.facebook.com/slashdot', 'https://www.linkedin.com/company/slashdot', 'https://twitter.com/slashdot', 'https://www.youtube.com/channel/UCsW36751Gy-EAbHQwe9WBNw', 'https://mastodon.cloud/@slashdot', '//slashdot.org/newsletter', '//slashdot.org/login.pl', '//slashdot.org/my/mailpassword', '', None, None, None, None, None, None, None, None, None, None, None, None, None, None, None, None, None, None, None, None, None, None, None, None, None, None, None, None, 'https://sourceforge.net/p/forge/documentation/GitHub%20Importer/', 'https://sourceforge.net/p/import_project/github/', 'https://slashdot.org/newsletter', 'https://slashdot.org/jobs-2', '', '//slashdot.org/index2.pl?fhfilter=power', '//hardware.slashdot.org/story/23/06/26/2243206/renewables-growth-did-not-dent-fossil-fuel-dominance-in-2022-report-says', 'https://www.reuters.com/business/energy/renewables-growth-did-not-dent-fossil-fuel-dominance-2022-statistical-review-2023-06-25/', '//hardware.slashdot.org/story/23/06/26/2243206/renewables-growth-did-not-dent-fossil-fuel-dominance-in-2022-report-says#comments', 'https://twitter.com/BeauHD', 'https://www.reuters.com/business/energy/renewables-growth-did-not-dent-fossil-fuel-dominance-2022-statistical-review-2023-06-25/', 'https://www.energyinst.org/exploring-energy/resources/news-centre/media-releases/ei-statistical-review-of-world-energy-energy-system-struggles-in-face-of-geopolitical-and-environmental-crises', '//slashdot.org/index2.pl?fhfilter=social', '//tech.slashdot.org/story/23/06/26/2233211/reddit-mods-are-calling-for-an-affordable-return-for-third-party-apps', 'https://www.theverge.com/2023/6/26/23774331/reddit-subreddits-third-party-apps-return-moderator', '//tech.slashdot.org/story/23/06/26/2233211/reddit-mods-are-calling-for-an-affordable-return-for-third-party-apps#comments', 'https://twitter.com/BeauHD', 'https://www.reddit.com/r/ModCoord/comments/14jm3ut/several_communities_have_surfaced_an_open_letter/', 'https://www.theverge.com/2023/6/26/23774331/reddit-subreddits-third-party-apps-return-moderator', 'https://tech.slashdot.org/story/23/06/25/0058232/thousands-of-subreddits-remain-dark-as-reddit-protests-approach-third-week', '//slashdot.org/index2.pl?fhfilter=piracy', '//yro.slashdot.org/story/23/06/26/2225223/z-library-releases-tor-enabled-desktop-launcher-to-improve-accessibility', 'https://torrentfreak.com/z-library-releases-tor-enabled-desktop-launcher-to-improve-accessibility-230626/', '//yro.slashdot.org/story/23/06/26/2225223/z-library-releases-tor-enabled-desktop-launcher-to-improve-accessibility#comments', 'https://twitter.com/BeauHD', 'https://torrentfreak.com/z-library-releases-tor-enabled-desktop-launcher-to-improve-accessibility-230626/', 'https://go-to-zlibrary.se/#desktop_app_tab', '//slashdot.org/index2.pl?fhfilter=ai', '//tech.slashdot.org/story/23/06/26/216224/ai-is-killing-the-old-web', '//tech.slashdot.org/story/23/06/26/216224/ai-is-killing-the-old-web#comments', 'https://www.theverge.com/2023/6/26/23773914/ai-large-language-models-data-scraping-generation-remaking-web', '//slashdot.org/index2.pl?fhfilter=internet', '//tech.slashdot.org/story/23/06/26/2052234/americans-hate-isps-almost-as-much-as-they-hate-gas-stations-survey-finds', 'https://www.extremetech.com/electronics/americans-hate-isps-almost-as-much-as-they-hate-gas-stations-survey-finds', '//tech.slashdot.org/story/23/06/26/2052234/americans-hate-isps-almost-as-much-as-they-hate-gas-stations-survey-finds#comments', 'https://twitter.com/BeauHD', 'https://www.extremetech.com/electronics/americans-hate-isps-almost-as-much-as-they-hate-gas-stations-survey-finds', 'https://www.theacsi.org/news-and-resources/press-releases/2023/06/06/press-release-telecommunications-study-2022-2023/', '//slashdot.org/index2.pl?fhfilter=technology', '//tech.slashdot.org/story/23/06/26/2032217/meta-launches-vr-subscription-service', 'https://www.cnbc.com/2023/06/26/meta-quest-plus-vr-subscription-service-announced.html', '//tech.slashdot.org/story/23/06/26/2032217/meta-launches-vr-subscription-service#comments', 'https://twitter.com/BeauHD', 'https://www.meta.com/blog/quest/meta-quest-plus-vr-subscription-service-introductory-offer/', 'https://www.cnbc.com/2023/06/26/meta-quest-plus-vr-subscription-service-announced.html', '//slashdot.org/index2.pl?fhfilter=ai', '//yro.slashdot.org/story/23/06/26/2026256/congress-sets-limits-on-staff-chatgpt-use', 'https://www.axios.com/2023/06/26/congress-rules-staff-chatgpt', '//yro.slashdot.org/story/23/06/26/2026256/congress-sets-limits-on-staff-chatgpt-use#comments', 'https://twitter.com/BeauHD', 'https://www.documentcloud.org/documents/23861503-cao-notice-on-chatgpt', 'https://www.axios.com/2023/06/26/congress-rules-staff-chatgpt', '//slashdot.org/index2.pl?fhfilter=crime', '//yro.slashdot.org/story/23/06/26/2021257/twitter-hacker-who-turned-celebrity-accounts-into-crypto-shills-gets-prison-sentence', 'https://gizmodo.com/joseph-o-connor-twitter-hacker-gets-prison-sentence-1850575900', '//yro.slashdot.org/story/23/06/26/2021257/twitter-hacker-who-turned-celebrity-accounts-into-crypto-shills-gets-prison-sentence#comments', 'https://twitter.com/BeauHD', 'https://it.slashdot.org/story/20/07/18/1837217/many-new-details-emerge-about-twitters-breach', 'https://gizmodo.com/joseph-o-connor-twitter-hacker-gets-prison-sentence-1850575900', 'https://www.justice.gov/opa/pr/uk-citizen-extradited-and-pleads-guilty-cyber-crime-offenses', '//slashdot.org/index2.pl?fhfilter=news', '//yro.slashdot.org/story/23/06/26/2019245/last-minute-law-change-bid-in-ireland-to-muzzle-critics-of-data-protection-commission', 'https://www.irishtimes.com/technology/data-security/2023/06/26/last-minute-law-change-bid-to-muzzle-critics-of-data-protection-commission-iccl/', '//yro.slashdot.org/story/23/06/26/2019245/last-minute-law-change-bid-in-ireland-to-muzzle-critics-of-data-protection-commission#comments', 'https://www.irishtimes.com/technology/data-security/2023/06/26/last-minute-law-change-bid-to-muzzle-critics-of-data-protection-commission-iccl/', '//slashdot.org/index2.pl?fhfilter=business', '//slashdot.org/story/23/06/26/1912248/amazon-launches-local-business-delivery-network', 'https://www.axios.com/2023/06/26/amazon-hub-delivery-local-small-biz', '//slashdot.org/story/23/06/26/1912248/amazon-launches-local-business-delivery-network#comments', 'https://www.axios.com/2023/06/26/amazon-hub-delivery-local-small-biz', '//slashdot.org/index2.pl?fhfilter=earth', '//news.slashdot.org/story/23/06/26/1758244/india-to-cut-daytime-power-tariffs-raise-fees-for-night-use', 'https://www.reuters.com/world/india/indias-power-tariff-be-20-less-during-solar-hours-higher-during-peak-hours-2023-06-23/', '//news.slashdot.org/story/23/06/26/1758244/india-to-cut-daytime-power-tariffs-raise-fees-for-night-use#comments', 'https://www.reuters.com/world/india/indias-power-tariff-be-20-less-during-solar-hours-higher-during-peak-hours-2023-06-23/', '//slashdot.org/index2.pl?fhfilter=internet', '//tech.slashdot.org/story/23/06/26/1720257/white-house-announces-40-billion-in-broadband-funding', 'https://www.theverge.com/2023/6/26/23773434/broadband-funding-biden-white-house-ntia', '//tech.slashdot.org/story/23/06/26/1720257/white-house-announces-40-billion-in-broadband-funding#comments', 'https://www.theverge.com/2023/6/26/23773434/broadband-funding-biden-white-house-ntia', '//slashdot.org/index2.pl?fhfilter=ai', '//tech.slashdot.org/story/23/06/26/1621233/google-deepminds-ceo-says-its-next-algorithm-will-eclipse-chatgpt', '//tech.slashdot.org/story/23/06/26/1621233/google-deepminds-ceo-says-its-next-algorithm-will-eclipse-chatgpt#comments', 'https://www.wired.com/story/google-deepmind-demis-hassabis-chatgpt/', '//slashdot.org/index2.pl?fhfilter=usa', '//news.slashdot.org/story/23/06/26/1559237/supreme-court-rejects-lawsuit-accusing-google-of-stealing-millions-of-song-lyrics', 'https://www.bloomberg.com/news/articles/2023-06-26/us-supreme-court-rejects-google-case-over-stolen-song-lyrics', '//news.slashdot.org/story/23/06/26/1559237/supreme-court-rejects-lawsuit-accusing-google-of-stealing-millions-of-song-lyrics#comments', 'https://www.bloomberg.com/news/articles/2023-06-26/us-supreme-court-rejects-google-case-over-stolen-song-lyrics', '//slashdot.org/tag/', '//slashdot.org/index2.pl?fhfilter=news', '//news.slashdot.org/story/23/06/26/159237/john-goodenough-lithium-ion-battery-inventor-and-nobel-prize-recipient-dies', 'https://news.utexas.edu/2023/06/26/ut-mourns-lithium-ion-battery-inventor-and-nobel-prize-recipient-john-goodenough/', '//news.slashdot.org/story/23/06/26/159237/john-goodenough-lithium-ion-battery-inventor-and-nobel-prize-recipient-dies#comments', '/~shilly', 'https://news.utexas.edu/2023/06/26/ut-mourns-lithium-ion-battery-inventor-and-nobel-prize-recipient-john-goodenough/', '#', '//slashdot.org/?page=1', '//slashdot.org/newsletter', 'http://deals.slashdot.org/', '/poll/3242/are-you-currently-using-ai-tools-for-programming', '/poll/3242/are-you-currently-using-ai-tools-for-programming', '//slashdot.org/polls', '/poll/3242/are-you-currently-using-ai-tools-for-programming', '//hardware.slashdot.org/story/23/06/25/2116235/can-ev-battery-swaps-be-as-fast-as-filling-up-a-gas-tank?sbsrc=md', '//developers.slashdot.org/story/23/06/26/018234/34-of-ap-cs-students-couldnt-solve-this-java-based-2d-array-question?sbsrc=md', '//news.slashdot.org/story/23/06/25/2255253/gcc-steering-committee-announces-a-code-of-conduct?sbsrc=md', '//news.slashdot.org/story/23/06/24/2343243/navy-heard-implosion-of-titan-submersible-oceangate-accused-of-exaggerating-design-partnerships?sbsrc=md', '//tech.slashdot.org/story/23/06/25/0058232/thousands-of-subreddits-remain-dark-as-reddit-protests-approach-third-week?sbsrc=md', '//science.slashdot.org', '//news.slashdot.org/story/23/06/26/159237/john-goodenough-lithium-ion-battery-inventor-and-nobel-prize-recipient-dies?utm_source=rss0.9mainlinkanon&utm_medium=feed&sbsrc=science', '//science.slashdot.org/story/23/06/26/0458214/nasa-opposes-lithium-mining-at-nevada-desert-site-used-to-calibrate-satellites?utm_source=rss0.9mainlinkanon&utm_medium=feed&sbsrc=science', '//science.slashdot.org/story/23/06/26/0322223/new-video-shows-a-flyby-of-the-planet-mercury---with-ai-assisted-music?utm_source=rss0.9mainlinkanon&utm_medium=feed&sbsrc=science', '//science.slashdot.org/story/23/06/25/202256/heres-how-we-could-begin-decoding-an-alien-message-using-math?utm_source=rss0.9mainlinkanon&utm_medium=feed&sbsrc=science', '//science.slashdot.org/story/23/06/25/1726202/particle-accelerator-reveals-a-new-type-of-atomic-nucleus?utm_source=rss0.9mainlinkanon&utm_medium=feed&sbsrc=science', '', '//politics.slashdot.org/story/15/06/26/167246/supreme-court-ruling-supports-same-sex-marriage?sbsrc=thisday', '//news.slashdot.org/story/13/06/26/1435218/supreme-court-overturns-defense-of-marriage-act?sbsrc=thisday', '//yro.slashdot.org/story/08/06/26/1729252/supreme-court-holds-right-to-bear-arms-applies-to-individuals?sbsrc=thisday', '//slashdot.org/story/03/06/26/132212/us-army-signs-471000000-deal-for-microsoft-software?sbsrc=thisday', '//slashdot.org/story/02/06/26/1935246/pledge-of-allegiance-ruled-unconstitutional?sbsrc=thisday', '', 'https://sourceforge.net/projects/corefonts/?source=sd_slashbox', 'https://sourceforge.net/projects/npppluginmgr/?source=sd_slashbox', 'https://sourceforge.net/projects/vlc/?source=sd_slashbox', 'https://sourceforge.net/projects/emule/?source=sd_slashbox', 'https://sourceforge.net/projects/mingw/?source=sd_slashbox', 'https://sourceforge.net/?source=sd_slashbox', '//slashdot.org', '//linux.slashdot.org/?issue=20230626', '//linux.slashdot.org/?issue=20230625', '//linux.slashdot.org/?issue=20230624', '//linux.slashdot.org/?issue=20230623', '//linux.slashdot.org/?issue=20230622', '//linux.slashdot.org/?issue=20230621', '//linux.slashdot.org/?issue=20230620', '//linux.slashdot.org/?issue=20230619', '/submit', '//slashdot.org/faq', '//slashdot.org/archive.pl', '//slashdot.org/hof.shtml', 'https://slashdotmedia.com/advertising-and-marketing-services/', 'https://slashdotmedia.com/terms-of-use/', 'https://slashdotmedia.com/privacy-statement/', '//slashdot.org/faq/slashmeta.shtml', 'mailto:feedback@slashdot.org', '#', '//slashdot.org/blog', '#', '#', '#', '//slashdot.org']\n"
     ]
    }
   ],
   "source": [
    "from bs4 import BeautifulSoup\n",
    "from urllib.request import Request, urlopen\n",
    "import re\n",
    "\n",
    "req = Request(\"http://slashdot.org\")\n",
    "html_page = urlopen(req)\n",
    "\n",
    "soup = BeautifulSoup(html_page, \"lxml\")\n",
    "\n",
    "links = []\n",
    "for link in soup.findAll('a'):\n",
    "    links.append(link.get('href'))\n",
    "\n",
    "print(links)"
   ]
  },
  {
   "cell_type": "code",
   "execution_count": 5,
   "id": "28bcd4ee",
   "metadata": {},
   "outputs": [],
   "source": [
    "req2 = Request(\"https://en.wikipedia.org/wiki/List_of_countries_by_GDP_(nominal)\")"
   ]
  },
  {
   "cell_type": "code",
   "execution_count": 6,
   "id": "0ead53c8",
   "metadata": {},
   "outputs": [
    {
     "name": "stdout",
     "output_type": "stream",
     "text": [
      "[]\n"
     ]
    }
   ],
   "source": [
    "mydivs = soup.find_all(\"div\", {\"class\": \"wikitable sortable static-row-numbers plainrowheaders srn-white-background jquery-tablesorter\"})\n",
    "\n",
    "print(mydivs)\n"
   ]
  },
  {
   "cell_type": "code",
   "execution_count": 7,
   "id": "f8ef9493",
   "metadata": {},
   "outputs": [],
   "source": [
    "a = [i for i in range(0, 30)]"
   ]
  },
  {
   "cell_type": "code",
   "execution_count": 9,
   "id": "1fc37d55",
   "metadata": {},
   "outputs": [],
   "source": [
    "countries = [\"India\", \"USA\", \"France\", \"UK\"]"
   ]
  },
  {
   "cell_type": "code",
   "execution_count": 10,
   "id": "919792e7",
   "metadata": {},
   "outputs": [],
   "source": [
    "capitals = [\"Delhi\", \"Washington\", \"Paris\", \"London\"]"
   ]
  },
  {
   "cell_type": "code",
   "execution_count": 11,
   "id": "b0b81896",
   "metadata": {},
   "outputs": [],
   "source": [
    "countries_and_capitals = [t for t in zip(countries, capitals)]"
   ]
  },
  {
   "cell_type": "code",
   "execution_count": 13,
   "id": "99e8b81d",
   "metadata": {},
   "outputs": [
    {
     "ename": "ModuleNotFoundError",
     "evalue": "No module named 'mysql'",
     "output_type": "error",
     "traceback": [
      "\u001b[1;31m---------------------------------------------------------------------------\u001b[0m",
      "\u001b[1;31mModuleNotFoundError\u001b[0m                       Traceback (most recent call last)",
      "Input \u001b[1;32mIn [13]\u001b[0m, in \u001b[0;36m<cell line: 1>\u001b[1;34m()\u001b[0m\n\u001b[1;32m----> 1\u001b[0m \u001b[38;5;28;01mimport\u001b[39;00m \u001b[38;5;21;01mmysql\u001b[39;00m\u001b[38;5;21;01m.\u001b[39;00m\u001b[38;5;21;01mconnector\u001b[39;00m\n",
      "\u001b[1;31mModuleNotFoundError\u001b[0m: No module named 'mysql'"
     ]
    }
   ],
   "source": []
  },
  {
   "cell_type": "code",
   "execution_count": null,
   "id": "7ede4f2c",
   "metadata": {},
   "outputs": [],
   "source": []
  }
 ],
 "metadata": {
  "kernelspec": {
   "display_name": "Python 3 (ipykernel)",
   "language": "python",
   "name": "python3"
  },
  "language_info": {
   "codemirror_mode": {
    "name": "ipython",
    "version": 3
   },
   "file_extension": ".py",
   "mimetype": "text/x-python",
   "name": "python",
   "nbconvert_exporter": "python",
   "pygments_lexer": "ipython3",
   "version": "3.9.12"
  }
 },
 "nbformat": 4,
 "nbformat_minor": 5
}
